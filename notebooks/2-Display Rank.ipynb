{
 "cells": [
  {
   "cell_type": "markdown",
   "metadata": {},
   "source": [
    "# Display Rank\n",
    "\n",
    "In MPI, each parallel process is called a *Rank*. Each rank can run in parallel. The number of ranks is configured when the Julia program is executed. \n",
    "\n",
    "We'll go through a small program to explain how this works. "
   ]
  },
  {
   "cell_type": "code",
   "execution_count": 1,
   "metadata": {},
   "outputs": [
    {
     "name": "stderr",
     "output_type": "stream",
     "text": [
      "\u001b[32m\u001b[1m  Activating\u001b[22m\u001b[39m project at `~/Development/HighVelocityJuliaAnalysis/TryMPI/notebooks`\n"
     ]
    }
   ],
   "source": [
    "# This cell should add the packages you need for \n",
    "# this notebook (and other notebooks in this directory)\n",
    "# You should get a message saying \n",
    "# \"Activating project at `.../TryMPI/notebooks` where the ... is the \n",
    "# absolute path to the directory of this repository and these notebooks.\n",
    "using Pkg\n",
    "Pkg.activate(\".\")\n",
    "Pkg.instantiate()\n",
    "\n",
    "# This cell will appear in other notebooks as well"
   ]
  },
  {
   "cell_type": "markdown",
   "metadata": {},
   "source": [
    "MPI programs have to be executed with a special command. For running on a Desktop or Laptop, the `MPI.jl` package provides such a command called `mpiexecjl`. We need to install this command on your machine. You only need to do this once on your laptop."
   ]
  },
  {
   "cell_type": "code",
   "execution_count": 4,
   "metadata": {},
   "outputs": [
    {
     "name": "stderr",
     "output_type": "stream",
     "text": [
      "┌ Info: Installing `mpiexecjl` to `/Users/lyon/.julia/bin`...\n",
      "└ @ MPI /Users/lyon/.julia/packages/MPI/08SPr/src/mpiexec_wrapper.jl:21\n",
      "┌ Info: Done!\n",
      "└ @ MPI /Users/lyon/.julia/packages/MPI/08SPr/src/mpiexec_wrapper.jl:23\n"
     ]
    }
   ],
   "source": [
    "using MPI\n",
    "MPI.install_mpiexecjl(force=true)\n",
    "# This will install the mpiexecjl command to `~/.julia/bin/mpiexecjl`"
   ]
  },
  {
   "cell_type": "markdown",
   "metadata": {},
   "source": [
    "## `displayRank.jl`\n",
    "\n",
    "We will look at `displayRank.jl` from this directory. In VSCode, display the file explorer, look in the `notebooks` directory and open `displayRank.jl`. After you open it, you can drag the tab for that file towards the bottom of the VSCode window until the blue shading is only in the lower half. That way you can see this notebook and that file at the same time. \n",
    "\n",
    "If within `displayRank.jl` you see `Missing reference: MPI` in orange and other errors or warnings, then you can set the Julia environment that VSCode is using. At the bottom of the VSCode window, on the status line, you'll probably see something like `Julia env: v1.7`. Click on that text. In the window that pops up, click on `(pick a folder)`. The notebook directory should appear. Click on the `Open` button. The error messages should eventually disappear. You'll note that the status line has changed."
   ]
  },
  {
   "cell_type": "markdown",
   "metadata": {},
   "source": []
  }
 ],
 "metadata": {
  "kernelspec": {
   "display_name": "Julia 1.7.3",
   "language": "julia",
   "name": "julia-1.7"
  },
  "language_info": {
   "file_extension": ".jl",
   "mimetype": "application/julia",
   "name": "julia",
   "version": "1.7.3"
  },
  "orig_nbformat": 4
 },
 "nbformat": 4,
 "nbformat_minor": 2
}
