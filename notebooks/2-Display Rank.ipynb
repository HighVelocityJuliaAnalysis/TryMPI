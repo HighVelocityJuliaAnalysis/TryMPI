{
 "cells": [
  {
   "cell_type": "markdown",
   "metadata": {},
   "source": [
    "# Display Rank\n",
    "\n",
    "In MPI, each parallel process is called a *Rank*. Each rank can run in parallel. The number of ranks is configured when the Julia program is executed. \n",
    "\n",
    "We'll go through a small program to explain how this works. "
   ]
  },
  {
   "cell_type": "code",
   "execution_count": 1,
   "metadata": {},
   "outputs": [
    {
     "name": "stderr",
     "output_type": "stream",
     "text": [
      "\u001b[32m\u001b[1m  Activating\u001b[22m\u001b[39m project at `~/Development/HighVelocityJuliaAnalysis/TryMPI/notebooks`\n"
     ]
    }
   ],
   "source": [
    "# This cell should add the packages you need for \n",
    "# this notebook (and other notebooks in this directory)\n",
    "# You should get a message saying \n",
    "# \"Activating project at `.../TryMPI/notebooks` where the ... is the \n",
    "# absolute path to the directory of this repository and these notebooks.\n",
    "using Pkg\n",
    "Pkg.activate(\".\")\n",
    "Pkg.instantiate()\n",
    "\n",
    "# This cell will appear in other notebooks as well"
   ]
  },
  {
   "cell_type": "markdown",
   "metadata": {},
   "source": [
    "MPI programs have to be executed with a special command. For running on a Desktop or Laptop, the `MPI.jl` package provides such a command called `mpiexecjl`. We need to install this command on your machine. You only need to do this once on your laptop. Execute the cell above and the cell below to do that."
   ]
  },
  {
   "cell_type": "code",
   "execution_count": 4,
   "metadata": {},
   "outputs": [
    {
     "name": "stderr",
     "output_type": "stream",
     "text": [
      "┌ Info: Installing `mpiexecjl` to `/Users/lyon/.julia/bin`...\n",
      "└ @ MPI /Users/lyon/.julia/packages/MPI/08SPr/src/mpiexec_wrapper.jl:21\n",
      "┌ Info: Done!\n",
      "└ @ MPI /Users/lyon/.julia/packages/MPI/08SPr/src/mpiexec_wrapper.jl:23\n"
     ]
    }
   ],
   "source": [
    "using MPI\n",
    "MPI.install_mpiexecjl(force=true)\n",
    "# This will install the mpiexecjl command to `~/.julia/bin/mpiexecjl`"
   ]
  },
  {
   "cell_type": "markdown",
   "metadata": {},
   "source": [
    "## `displayRank.jl`\n",
    "\n",
    "We will look at `displayRank.jl` from this directory. In VSCode, display the file explorer, look in the `notebooks` directory and open `displayRank.jl`. After you open it, you can drag the tab for that file towards the bottom of the VSCode window until the blue shading is only in the lower half. That way you can see this notebook and that file at the same time. \n",
    "\n",
    "If within `displayRank.jl` you see `Missing reference: MPI` in orange and other errors or warnings, then you can set the Julia environment that VSCode is using. At the bottom of the VSCode window, on the status line, you'll probably see something like `Julia env: v1.7`. Click on that text. In the window that pops up, click on `(pick a folder)`. The notebook directory should appear. Click on the `Open` button. The error messages should eventually disappear. You'll note that the status line has changed."
   ]
  },
  {
   "cell_type": "markdown",
   "metadata": {},
   "source": [
    "## Running `displayRank.jl`\n",
    "\n",
    "To run the program, open a terminal in VSCode with Cmd-\\` (Command key with the backquote key). The terminal should appear at the bottom of the VSCode window. The current directory should be this `notebooks` directory. Now, in the terminal, enter the following.\n",
    "\n",
    "```bash\n",
    "~/.julia/bin/mpiexecjl --project -n 4 julia displayRank.jl\n",
    "```\n",
    "\n",
    "You should see something like (the order may be different)\n",
    "```\n",
    "I am rank #1 of 4\n",
    "I am rank #2 of 4\n",
    "I am rank #3 of 4\n",
    "I am rank #0 of 4\n",
    "```\n",
    "\n",
    "You may also see a window briefly appear asking if you want to accept incoming connections. It will disappear when the program ends. You can ignore this window completely. \n",
    "\n",
    "You can do Cmd-\\` to hide the terminal window and Cmd-\\` again to bring it back. \n",
    "\n"
   ]
  },
  {
   "cell_type": "markdown",
   "metadata": {},
   "source": [
    "Here's a breakdown of what `~/.julia/bin/mpiexecjl --project -n 4 julia displayRank.jl` does.\n",
    "\n",
    "```bash\n",
    "~/.julia/bin/mpiexecjl\n",
    "```\n",
    "\n",
    "runs the `mpiexecjl` program that we installed above in this notebook. This program knows how to execute in MPI and to find the Julia executable.\n",
    "\n",
    "```bash\n",
    "--project\n",
    "```\n",
    "\n",
    "tells `mpiexecjl` to use the Julia environment of our current directory. This allows Julia to find the `MPI.jl` package.\n",
    "\n",
    "```bash\n",
    "-n 4\n",
    "```\n",
    "\n",
    "tells `mpiexecjl` that we want four parallel processes. You can try more or less to see what happens (e.g. try `-n 10`).\n",
    "\n",
    "```bash\n",
    "julia displayRank.jl\n",
    "```\n",
    "\n",
    "is the program that we want to run under MPI.\n",
    "\n"
   ]
  },
  {
   "cell_type": "markdown",
   "metadata": {},
   "source": [
    "## Explanation of `displayRank.jl`"
   ]
  },
  {
   "cell_type": "markdown",
   "metadata": {},
   "source": [
    "The thing to remember about MPI is that it runs copies of your Julia program simulataneously - one for each process. That's why `-n 4` in the execution above gave you four lines of output. MPI ran four copies of the code simultaneously. Try `-n 10` and see what you get.\n",
    "\n",
    "Here is an explanation of the code in `displayRank.jl`:\n",
    "\n",
    "```julia\n",
    "using MPI\n",
    "MPI.Init()\n",
    "```\n",
    "\n",
    "tells Julia that you want to use the MPI package. We then need to initialize it with `MPI.Init()`. Every program using MPI must do this.\n",
    "\n",
    "```julia\n",
    "comm = MPI.COMM_WORLD\n",
    "```\n",
    "\n",
    "Each parallel process that MPI is running is a *Rank* (kind of a strange name). If you specify `-n 4` in the execution, then there will be four ranks. The ranks are numbered from 0, so `-n 4` will give Ranks with numbers 0, 1, 2, and 3. MPI allows communication between the ranks, and the way to do that is to use a *communicator*. MPI has a built in communicator called `MPI.COMM_WORLD`, that allows all of the ranks to talk to each other (the \"world\"). It is possible to create communicators that talk to a subset of ranks, but we won't do that yet. Because typing `MPI.COMM_WORLD` is kind of a pain, it is common to use a shorter variable name, as is done here with `comm`. \n",
    "\n",
    "Nearly every MPI command will need a communicator to specify the group of ranks that it should talk with. `comm` will be that communicator for us. \n",
    "\n",
    "```julia\n",
    "myRank = MPI.Comm_rank(comm)\n",
    "nRanks = MPI.Comm_size(comm)\n",
    "```\n",
    "\n",
    "These two lines get information about the Rank and how many ranks there are. Remember, MPI is running copies of this code simultaneously. Each copy has a different Rank #. Therefore, `myRank` will be different for each copy. `nRanks` will always be the same for each Rank, since the total number of ranks is a constant. Note that we use the `comm` communicator in each function call. \n",
    "\n",
    "```julia\n",
    "print(\"I am rank #$(myRank) of $(nRanks)\\n\")\n",
    "```\n",
    "\n",
    "Print out the rank # and the number of ranks. Note that we're using Julia's string interpolation feature. `$(expression)` will insert the result of the expression into the string.\n",
    "\n",
    "```julia\n",
    "MPI.Barrier(comm)\n",
    "```\n",
    "\n",
    "Each rank can run slower or faster than the others. If you want your program to wait for all of the ranks to catch up, then use this `MPI.Barrier` function. The program won't proceed until every rank reaches this point. This is called *synchronization*. In general, synchronization makes your program slower and should be used only when necessary. We'll see examples of when we need to use it. In this case, since it is the last line of the program, we don't actually need it. There is an implicit synchronization when the program ends. "
   ]
  }
 ],
 "metadata": {
  "kernelspec": {
   "display_name": "Julia 1.7.3",
   "language": "julia",
   "name": "julia-1.7"
  },
  "language_info": {
   "file_extension": ".jl",
   "mimetype": "application/julia",
   "name": "julia",
   "version": "1.7.3"
  },
  "orig_nbformat": 4
 },
 "nbformat": 4,
 "nbformat_minor": 2
}
