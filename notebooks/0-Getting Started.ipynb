{
 "cells": [
  {
   "cell_type": "markdown",
   "metadata": {},
   "source": [
    "# Getting Started\n",
    "\n",
    "This directory contains several notebooks to get started with MPI and Julia.\n",
    "\n",
    "Unfortunately, Julia programs using MPI cannot run from a Jupyter notebook, therefore only the 1-Nonparallel.ipynb notebook has executable cells. The other notebooks will direct you to look at files containing the Julia programs and will show you how to run them.\n",
    "\n",
    "## Adding the MPI and other Julia packages\n",
    "Towards the top of each notebook, there is a cell that will activate this directory as the Julia environment and install the needed packages, including MPI.jl. You should only need to execute this cell once, unless the notebooks are updated. It does not hurt to re-execute the cell. \n",
    "\n",
    "If you are writing your own Julia MPI program, then you can do\n",
    "```julia\n",
    "]add MPI\n",
    "```\n",
    "to add the MPI.jl package. Note that you may need to do special things if you are running on a supercomputer. \n",
    "\n"
   ]
  },
  {
   "cell_type": "markdown",
   "metadata": {},
   "source": []
  },
  {
   "cell_type": "markdown",
   "metadata": {},
   "source": []
  }
 ],
 "metadata": {
  "kernelspec": {
   "display_name": "Julia 1.7.3",
   "language": "julia",
   "name": "julia-1.7"
  },
  "language_info": {
   "file_extension": ".jl",
   "mimetype": "application/julia",
   "name": "julia",
   "version": "1.7.3"
  },
  "orig_nbformat": 4,
  "vscode": {
   "interpreter": {
    "hash": "aee8b7b246df8f9039afb4144a1f6fd8d2ca17a180786b69acc140d282b71a49"
   }
  }
 },
 "nbformat": 4,
 "nbformat_minor": 2
}
